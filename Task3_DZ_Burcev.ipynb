{
 "cells": [
  {
   "cell_type": "code",
   "execution_count": 30,
   "id": "a7a16bef",
   "metadata": {},
   "outputs": [],
   "source": [
    "import requests,math\n",
    "from tqdm.auto import tqdm"
   ]
  },
  {
   "cell_type": "code",
   "execution_count": 31,
   "id": "7d31cf1d",
   "metadata": {},
   "outputs": [],
   "source": [
    "offset_ = 1 # размер шага\n",
    "limit_ = 1000 # количество объектов ввыдаче\n",
    "# url = f'https://xn--80az8a.xn--d1aqf.xn--p1ai/%D1%81%D0%B5%D1%80%D0%B2%D0%B8%D1%81%D1%8B/api/kn/object?offset={offset_}&limit={limi"
   ]
  },
  {
   "cell_type": "code",
   "execution_count": 32,
   "id": "28c7b846",
   "metadata": {},
   "outputs": [],
   "source": [
    "import pandas as pd\n",
    "import seaborn as sns\n",
    "import numpy as np\n",
    "import os\n",
    "import matplotlib.pyplot as plt\n",
    "%matplotlib inline"
   ]
  },
  {
   "cell_type": "code",
   "execution_count": 33,
   "id": "f7a99f18",
   "metadata": {},
   "outputs": [],
   "source": [
    "df=pd.read_pickle('Наш_Дом_РФ.pkl')\n",
    "# df"
   ]
  },
  {
   "cell_type": "code",
   "execution_count": 34,
   "id": "1080e6eb",
   "metadata": {},
   "outputs": [],
   "source": [
    "class DomIdLoader:\n",
    "    def __init__(self):\n",
    "        self.offset_ = 1\n",
    "        self.limit_ = 1000\n",
    "        self.url = 'https://xn--80az8a.xn--d1aqf.xn--p1ai/%D1%81%D0%B5%D1%80%D0%B2%D0%B8%D1%81%D1%8B/api/kn/object'\n",
    "        self.objects_data = None\n",
    "        \n",
    "    def load_data(froam_pickle_file):\n",
    "        pd.read_pickle('Наш_Дом_РФ.pkl')\n",
    "    \n",
    "    \n",
    "    def get_object(self):\n",
    "        self.all_object= []\n",
    "\n",
    "        while True:\n",
    "            res = requests.get(url)\n",
    "            objects_data = res.json() \n",
    "            self.all_object.extend(objects_data.get('data').get('list'))\n",
    "            offset_=offset_+limit_\n",
    "            if len(objects_data.get('data').get('list'))<100:\n",
    "                self.all_object.extend(objects_data.get('data').get('list'))\n",
    "                break\n",
    "        print(\"Объекты собраны!\")\n",
    " \n",
    "    def make_object_dataframe(self):\n",
    "        print(\"Создан DataFrame\")\n",
    "        return pd.DataFrame(self.all_object)\n",
    "    \n",
    "class Saver:\n",
    "    \n",
    "    def __init__(self, data):\n",
    "        self.data=objects_data\n",
    "\n",
    "    def save_csv(self):\n",
    "        self.to_csv('object.csv', index=False)\n",
    "\n",
    "    def save_xl(self):\n",
    "        self.to_excel('object.xlsx', index=False)\n",
    "\n",
    "    def save_pkl(self):\n",
    "        self.to_pickle('object.pkl')"
   ]
  },
  {
   "cell_type": "code",
   "execution_count": 35,
   "id": "ab5acd70",
   "metadata": {},
   "outputs": [
    {
     "data": {
      "text/plain": [
       "(11709, 39)"
      ]
     },
     "execution_count": 35,
     "metadata": {},
     "output_type": "execute_result"
    }
   ],
   "source": [
    "df.shape"
   ]
  },
  {
   "cell_type": "code",
   "execution_count": 36,
   "id": "2dfec532",
   "metadata": {},
   "outputs": [],
   "source": [
    "# Сохраняем в csv файл\n",
    "df.to_csv('object.csv', index=False)\n",
    "# Сохраняем в эксель-файл\n",
    "df.to_excel('object.xlsx', index=False)\n",
    "# Сохраняем в файл в формате pickle\n",
    "df.to_pickle('object.pkl')"
   ]
  },
  {
   "cell_type": "code",
   "execution_count": 37,
   "id": "040dd57c",
   "metadata": {},
   "outputs": [
    {
     "data": {
      "text/plain": [
       "Index(['hobjId', 'objId', 'rpdRegionCd', 'objAddr', 'objFloorMin',\n",
       "       'objFloorMax', 'objElemLivingCnt', 'objReady100PercDt',\n",
       "       'objSquareLiving', 'objCompensFundFlg', 'objProblemFlg', 'latitude',\n",
       "       'longitude', 'problemFlag', 'siteStatus', 'objGuarantyEscrowFlg',\n",
       "       'residentialBuildings', 'rpdNum', 'pdId', 'buildType', 'objStatus',\n",
       "       'hobjRenderPhotoUrl', 'objPriceAVG', 'objPublDt', 'developer.devId',\n",
       "       'developer.shortName', 'developer.fullName', 'developer.groupName',\n",
       "       'developer.orgForm.id', 'developer.orgForm.fullForm',\n",
       "       'developer.orgForm.shortForm', 'developer.companyGroup',\n",
       "       'developer.devInn', 'objCommercNm', 'complexShortName',\n",
       "       'developer.bankruptStage.bankruptStageCd',\n",
       "       'developer.bankruptStage.bankruptStageDesc',\n",
       "       'developer.bankruptStage.bankruptLawUrl',\n",
       "       'developer.orgBankruptMsgDttm'],\n",
       "      dtype='object')"
      ]
     },
     "execution_count": 37,
     "metadata": {},
     "output_type": "execute_result"
    }
   ],
   "source": [
    "df.columns"
   ]
  }
 ],
 "metadata": {
  "kernelspec": {
   "display_name": "Python 3 (ipykernel)",
   "language": "python",
   "name": "python3"
  },
  "language_info": {
   "codemirror_mode": {
    "name": "ipython",
    "version": 3
   },
   "file_extension": ".py",
   "mimetype": "text/x-python",
   "name": "python",
   "nbconvert_exporter": "python",
   "pygments_lexer": "ipython3",
   "version": "3.11.5"
  }
 },
 "nbformat": 4,
 "nbformat_minor": 5
}
