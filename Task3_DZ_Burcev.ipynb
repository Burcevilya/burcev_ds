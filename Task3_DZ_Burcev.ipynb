{
 "cells": [
  {
   "cell_type": "code",
   "execution_count": 20,
   "id": "c377b8a4",
   "metadata": {},
   "outputs": [],
   "source": [
    "import requests\n",
    "import pandas as pd\n",
    "import matplotlib.pyplot as plt\n",
    "import seaborn as sns\n",
    "import sqlite3\n",
    "\n",
    "class ObjectInfoExtractor:\n",
    "    def __init__(self, ids):\n",
    "        self.ids = ids\n",
    "        self.object_info = None\n",
    "\n",
    "    def load_data(self, from_file=None):\n",
    "        if from_file:\n",
    "            # Load data from file\n",
    "            self.object_info = pd.read_csv(from_file)\n",
    "        else:\n",
    "            # Load data based on ids\n",
    "            ...\n",
    "\n",
    "    def df_converter(self):\n",
    "        # Convert loaded data to DataFrame\n",
    "        ...\n",
    "\n",
    "ids = [1, 2, 3, ..., 11700]  \n",
    "extractor = ObjectInfoExtractor(ids)\n",
    "extractor.load_data(from_file=\"Наш_дом_РФ.csv\")\n",
    "\n",
    "#Алексей все сделал как Вы сказали про load_data и from_file но что-то не так..."
   ]
  },
  {
   "cell_type": "code",
   "execution_count": null,
   "id": "706bffbb",
   "metadata": {},
   "outputs": [],
   "source": []
  }
 ],
 "metadata": {
  "kernelspec": {
   "display_name": "Python 3 (ipykernel)",
   "language": "python",
   "name": "python3"
  },
  "language_info": {
   "codemirror_mode": {
    "name": "ipython",
    "version": 3
   },
   "file_extension": ".py",
   "mimetype": "text/x-python",
   "name": "python",
   "nbconvert_exporter": "python",
   "pygments_lexer": "ipython3",
   "version": "3.11.5"
  }
 },
 "nbformat": 4,
 "nbformat_minor": 5
}
