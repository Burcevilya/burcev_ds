{
 "cells": [
  {
   "cell_type": "code",
   "execution_count": 20,
   "id": "e903e303",
   "metadata": {},
   "outputs": [],
   "source": [
    "#Алексей, вторую и третью задачу решил, а вот по первой есть вопрос. URL либо не работает, либо еще какая то проблема, код решения по первой задачке я написал. "
   ]
  },
  {
   "cell_type": "code",
   "execution_count": null,
   "id": "42c1b098",
   "metadata": {},
   "outputs": [],
   "source": [
    "import pandas as pd\n",
    "import numpy as np\n",
    "import requests # for web-download\n",
    "import io # for web-download\n",
    "import re # for data processing"
   ]
  },
  {
   "cell_type": "code",
   "execution_count": 36,
   "id": "0f2157a3",
   "metadata": {},
   "outputs": [
    {
     "ename": "ParserError",
     "evalue": "Error tokenizing data. C error: Expected 1 fields in line 40, saw 214\n",
     "output_type": "error",
     "traceback": [
      "\u001b[1;31m---------------------------------------------------------------------------\u001b[0m",
      "\u001b[1;31mParserError\u001b[0m                               Traceback (most recent call last)",
      "Cell \u001b[1;32mIn[36], line 12\u001b[0m\n\u001b[0;32m     10\u001b[0m url \u001b[38;5;241m=\u001b[39m\u001b[38;5;124m\"\u001b[39m\u001b[38;5;124mhttps://data.gov.ru/opendata/7708660670-rodnik-neskuchniy-sad/data-20160608T1215-structure-20160608T1215.csv\u001b[39m\u001b[38;5;124m\"\u001b[39m\n\u001b[0;32m     11\u001b[0m s \u001b[38;5;241m=\u001b[39m get_content(url)\n\u001b[1;32m---> 12\u001b[0m df\u001b[38;5;241m=\u001b[39mpd\u001b[38;5;241m.\u001b[39mread_csv(io\u001b[38;5;241m.\u001b[39mStringIO(s\u001b[38;5;241m.\u001b[39mdecode(\u001b[38;5;124m'\u001b[39m\u001b[38;5;124mUTF8\u001b[39m\u001b[38;5;124m'\u001b[39m)))\n\u001b[0;32m     15\u001b[0m \u001b[38;5;66;03m### Если не работает загрузка on-line\u001b[39;00m\n\u001b[0;32m     16\u001b[0m \u001b[38;5;66;03m#df=pd.read_csv(\"Химический анализ родника в Нескучном саду.csv\", sep=';')\u001b[39;00m\n\u001b[0;32m     17\u001b[0m display(df)\n",
      "File \u001b[1;32mC:\\anacona\\Lib\\site-packages\\pandas\\io\\parsers\\readers.py:912\u001b[0m, in \u001b[0;36mread_csv\u001b[1;34m(filepath_or_buffer, sep, delimiter, header, names, index_col, usecols, dtype, engine, converters, true_values, false_values, skipinitialspace, skiprows, skipfooter, nrows, na_values, keep_default_na, na_filter, verbose, skip_blank_lines, parse_dates, infer_datetime_format, keep_date_col, date_parser, date_format, dayfirst, cache_dates, iterator, chunksize, compression, thousands, decimal, lineterminator, quotechar, quoting, doublequote, escapechar, comment, encoding, encoding_errors, dialect, on_bad_lines, delim_whitespace, low_memory, memory_map, float_precision, storage_options, dtype_backend)\u001b[0m\n\u001b[0;32m    899\u001b[0m kwds_defaults \u001b[38;5;241m=\u001b[39m _refine_defaults_read(\n\u001b[0;32m    900\u001b[0m     dialect,\n\u001b[0;32m    901\u001b[0m     delimiter,\n\u001b[1;32m   (...)\u001b[0m\n\u001b[0;32m    908\u001b[0m     dtype_backend\u001b[38;5;241m=\u001b[39mdtype_backend,\n\u001b[0;32m    909\u001b[0m )\n\u001b[0;32m    910\u001b[0m kwds\u001b[38;5;241m.\u001b[39mupdate(kwds_defaults)\n\u001b[1;32m--> 912\u001b[0m \u001b[38;5;28;01mreturn\u001b[39;00m _read(filepath_or_buffer, kwds)\n",
      "File \u001b[1;32mC:\\anacona\\Lib\\site-packages\\pandas\\io\\parsers\\readers.py:583\u001b[0m, in \u001b[0;36m_read\u001b[1;34m(filepath_or_buffer, kwds)\u001b[0m\n\u001b[0;32m    580\u001b[0m     \u001b[38;5;28;01mreturn\u001b[39;00m parser\n\u001b[0;32m    582\u001b[0m \u001b[38;5;28;01mwith\u001b[39;00m parser:\n\u001b[1;32m--> 583\u001b[0m     \u001b[38;5;28;01mreturn\u001b[39;00m parser\u001b[38;5;241m.\u001b[39mread(nrows)\n",
      "File \u001b[1;32mC:\\anacona\\Lib\\site-packages\\pandas\\io\\parsers\\readers.py:1704\u001b[0m, in \u001b[0;36mTextFileReader.read\u001b[1;34m(self, nrows)\u001b[0m\n\u001b[0;32m   1697\u001b[0m nrows \u001b[38;5;241m=\u001b[39m validate_integer(\u001b[38;5;124m\"\u001b[39m\u001b[38;5;124mnrows\u001b[39m\u001b[38;5;124m\"\u001b[39m, nrows)\n\u001b[0;32m   1698\u001b[0m \u001b[38;5;28;01mtry\u001b[39;00m:\n\u001b[0;32m   1699\u001b[0m     \u001b[38;5;66;03m# error: \"ParserBase\" has no attribute \"read\"\u001b[39;00m\n\u001b[0;32m   1700\u001b[0m     (\n\u001b[0;32m   1701\u001b[0m         index,\n\u001b[0;32m   1702\u001b[0m         columns,\n\u001b[0;32m   1703\u001b[0m         col_dict,\n\u001b[1;32m-> 1704\u001b[0m     ) \u001b[38;5;241m=\u001b[39m \u001b[38;5;28mself\u001b[39m\u001b[38;5;241m.\u001b[39m_engine\u001b[38;5;241m.\u001b[39mread(  \u001b[38;5;66;03m# type: ignore[attr-defined]\u001b[39;00m\n\u001b[0;32m   1705\u001b[0m         nrows\n\u001b[0;32m   1706\u001b[0m     )\n\u001b[0;32m   1707\u001b[0m \u001b[38;5;28;01mexcept\u001b[39;00m \u001b[38;5;167;01mException\u001b[39;00m:\n\u001b[0;32m   1708\u001b[0m     \u001b[38;5;28mself\u001b[39m\u001b[38;5;241m.\u001b[39mclose()\n",
      "File \u001b[1;32mC:\\anacona\\Lib\\site-packages\\pandas\\io\\parsers\\c_parser_wrapper.py:234\u001b[0m, in \u001b[0;36mCParserWrapper.read\u001b[1;34m(self, nrows)\u001b[0m\n\u001b[0;32m    232\u001b[0m \u001b[38;5;28;01mtry\u001b[39;00m:\n\u001b[0;32m    233\u001b[0m     \u001b[38;5;28;01mif\u001b[39;00m \u001b[38;5;28mself\u001b[39m\u001b[38;5;241m.\u001b[39mlow_memory:\n\u001b[1;32m--> 234\u001b[0m         chunks \u001b[38;5;241m=\u001b[39m \u001b[38;5;28mself\u001b[39m\u001b[38;5;241m.\u001b[39m_reader\u001b[38;5;241m.\u001b[39mread_low_memory(nrows)\n\u001b[0;32m    235\u001b[0m         \u001b[38;5;66;03m# destructive to chunks\u001b[39;00m\n\u001b[0;32m    236\u001b[0m         data \u001b[38;5;241m=\u001b[39m _concatenate_chunks(chunks)\n",
      "File \u001b[1;32mC:\\anacona\\Lib\\site-packages\\pandas\\_libs\\parsers.pyx:814\u001b[0m, in \u001b[0;36mpandas._libs.parsers.TextReader.read_low_memory\u001b[1;34m()\u001b[0m\n",
      "File \u001b[1;32mC:\\anacona\\Lib\\site-packages\\pandas\\_libs\\parsers.pyx:875\u001b[0m, in \u001b[0;36mpandas._libs.parsers.TextReader._read_rows\u001b[1;34m()\u001b[0m\n",
      "File \u001b[1;32mC:\\anacona\\Lib\\site-packages\\pandas\\_libs\\parsers.pyx:850\u001b[0m, in \u001b[0;36mpandas._libs.parsers.TextReader._tokenize_rows\u001b[1;34m()\u001b[0m\n",
      "File \u001b[1;32mC:\\anacona\\Lib\\site-packages\\pandas\\_libs\\parsers.pyx:861\u001b[0m, in \u001b[0;36mpandas._libs.parsers.TextReader._check_tokenize_status\u001b[1;34m()\u001b[0m\n",
      "File \u001b[1;32mC:\\anacona\\Lib\\site-packages\\pandas\\_libs\\parsers.pyx:2029\u001b[0m, in \u001b[0;36mpandas._libs.parsers.raise_parser_error\u001b[1;34m()\u001b[0m\n",
      "\u001b[1;31mParserError\u001b[0m: Error tokenizing data. C error: Expected 1 fields in line 40, saw 214\n"
     ]
    }
   ],
   "source": [
    "headers={\n",
    "    'User-Agent': 'Mozilla/5.0 (X11; Ubuntu; Linux x86_64; rv:52.0) Gecko/20100101 Firefox/52.0',\n",
    "}\n",
    "def get_content(url):\n",
    "    with requests.Session() as req:\n",
    "        req.headers.update(headers)\n",
    "        r = req.get(url).content\n",
    "    return r\n",
    "\n",
    "url =\"https://data.gov.ru/opendata/7708660670-rodnik-neskuchniy-sad/data-20160608T1215-structure-20160608T1215.csv\"\n",
    "s = get_content(url)\n",
    "df=pd.read_csv(io.StringIO(s.decode('UTF8')))\n",
    "\n",
    "\n",
    "### Если не работает загрузка on-line\n",
    "#df=pd.read_csv(\"Химический анализ родника в Нескучном саду.csv\", sep=';')\n",
    "display(df)"
   ]
  },
  {
   "cell_type": "code",
   "execution_count": 37,
   "id": "55ce25f7",
   "metadata": {},
   "outputs": [
    {
     "ename": "NameError",
     "evalue": "name 'df' is not defined",
     "output_type": "error",
     "traceback": [
      "\u001b[1;31m---------------------------------------------------------------------------\u001b[0m",
      "\u001b[1;31mNameError\u001b[0m                                 Traceback (most recent call last)",
      "Cell \u001b[1;32mIn[37], line 1\u001b[0m\n\u001b[1;32m----> 1\u001b[0m df\u001b[38;5;241m.\u001b[39mat[\u001b[38;5;241m2\u001b[39m, \u001b[38;5;124m'\u001b[39m\u001b[38;5;124mРезультат_анализа\u001b[39m\u001b[38;5;124m'\u001b[39m] \u001b[38;5;241m=\u001b[39m \u001b[38;5;241m0\u001b[39m\n",
      "\u001b[1;31mNameError\u001b[0m: name 'df' is not defined"
     ]
    }
   ],
   "source": [
    "df.at[2, 'Результат_анализа'] = 0"
   ]
  },
  {
   "cell_type": "code",
   "execution_count": 38,
   "id": "84e5f58e",
   "metadata": {},
   "outputs": [
    {
     "ename": "NameError",
     "evalue": "name 'df' is not defined",
     "output_type": "error",
     "traceback": [
      "\u001b[1;31m---------------------------------------------------------------------------\u001b[0m",
      "\u001b[1;31mNameError\u001b[0m                                 Traceback (most recent call last)",
      "Cell \u001b[1;32mIn[38], line 1\u001b[0m\n\u001b[1;32m----> 1\u001b[0m df\n",
      "\u001b[1;31mNameError\u001b[0m: name 'df' is not defined"
     ]
    }
   ],
   "source": [
    "df"
   ]
  },
  {
   "cell_type": "code",
   "execution_count": 39,
   "id": "a460f206",
   "metadata": {},
   "outputs": [
    {
     "ename": "NameError",
     "evalue": "name 'df' is not defined",
     "output_type": "error",
     "traceback": [
      "\u001b[1;31m---------------------------------------------------------------------------\u001b[0m",
      "\u001b[1;31mNameError\u001b[0m                                 Traceback (most recent call last)",
      "Cell \u001b[1;32mIn[39], line 1\u001b[0m\n\u001b[1;32m----> 1\u001b[0m df[\u001b[38;5;124m'\u001b[39m\u001b[38;5;124mВыводы\u001b[39m\u001b[38;5;124m'\u001b[39m] \u001b[38;5;241m=\u001b[39m \u001b[38;5;124m'\u001b[39m\u001b[38;5;124m0\u001b[39m\u001b[38;5;124m'\u001b[39m\n",
      "\u001b[1;31mNameError\u001b[0m: name 'df' is not defined"
     ]
    }
   ],
   "source": [
    "df['Выводы'] = '0'"
   ]
  },
  {
   "cell_type": "code",
   "execution_count": 40,
   "id": "62fbb604",
   "metadata": {},
   "outputs": [
    {
     "ename": "NameError",
     "evalue": "name 'df' is not defined",
     "output_type": "error",
     "traceback": [
      "\u001b[1;31m---------------------------------------------------------------------------\u001b[0m",
      "\u001b[1;31mNameError\u001b[0m                                 Traceback (most recent call last)",
      "Cell \u001b[1;32mIn[40], line 1\u001b[0m\n\u001b[1;32m----> 1\u001b[0m \u001b[38;5;28;01mfor\u001b[39;00m i \u001b[38;5;129;01min\u001b[39;00m \u001b[38;5;28mrange\u001b[39m(\u001b[38;5;28mlen\u001b[39m(df\u001b[38;5;241m.\u001b[39mРезультат_анализа)):\n\u001b[0;32m      2\u001b[0m     \u001b[38;5;28;01mif\u001b[39;00m \u001b[38;5;241m6\u001b[39m\u001b[38;5;241m<\u001b[39m\u001b[38;5;28mfloat\u001b[39m((df[\u001b[38;5;124m'\u001b[39m\u001b[38;5;124mРезультат_анализа\u001b[39m\u001b[38;5;124m'\u001b[39m][i]))\u001b[38;5;241m<\u001b[39m\u001b[38;5;241m9\u001b[39m \u001b[38;5;129;01mand\u001b[39;00m df[\u001b[38;5;124m'\u001b[39m\u001b[38;5;124mПоказатель\u001b[39m\u001b[38;5;124m'\u001b[39m][i]\u001b[38;5;241m==\u001b[39m\u001b[38;5;124m'\u001b[39m\u001b[38;5;124mpH\u001b[39m\u001b[38;5;124m'\u001b[39m:\n\u001b[0;32m      3\u001b[0m         df[\u001b[38;5;124m'\u001b[39m\u001b[38;5;124mВыводы\u001b[39m\u001b[38;5;124m'\u001b[39m][i]\u001b[38;5;241m=\u001b[39m\u001b[38;5;124m'\u001b[39m\u001b[38;5;124mНорма\u001b[39m\u001b[38;5;124m'\u001b[39m\n",
      "\u001b[1;31mNameError\u001b[0m: name 'df' is not defined"
     ]
    }
   ],
   "source": [
    "for i in range(len(df.Результат_анализа)):\n",
    "    if 6<float((df['Результат_анализа'][i]))<9 and df['Показатель'][i]=='pH':\n",
    "        df['Выводы'][i]='Норма'\n",
    "        \n",
    "    elif float((df['Результат_анализа'][i]))<2.0 and df['Показатель'][i]=='Запах':\n",
    "        df['Выводы'][i]='Норма'  \n",
    "        \n",
    "    elif float((df['Результат_анализа'][i]))<30.0 and df['Показатель'][i]=='Цветность':\n",
    "        df['Выводы'][i]='Норма' \n",
    "        \n",
    "    elif 7<float((df['Результат_анализа'][i]))<10 and df['Показатель'][i]=='Жёсткость':\n",
    "        df['Выводы'][i]='Норма' \n",
    "        \n",
    "    elif float((df['Результат_анализа'][i]))<1.5 and df['Показатель'][i]=='Амиак и аммоний-ион (по азоту)':\n",
    "        df['Выводы'][i]='Норма' \n",
    "                  \n",
    "    elif float((df['Результат_анализа'][i]))<3.3 and df['Показатель'][i]=='Нириты (по NO2)':\n",
    "        df['Выводы'][i]='Норма' \n",
    "                  \n",
    "    elif float((df['Результат_анализа'][i]))<45 and df['Показатель'][i]=='Нириты (по NO3)':\n",
    "        df['Выводы'][i]='Норма' \n",
    "                            \n",
    "    elif float((df['Результат_анализа'][i]))<3.5 and df['Показатель'][i]=='Фосфаты (P)':\n",
    "        df['Выводы'][i]='Норма' \n",
    "        \n",
    "    elif float((df['Результат_анализа'][i]))<350 and df['Показатель'][i]=='Хлориды (С1)':\n",
    "        df['Выводы'][i]='Норма' \n",
    "        \n",
    "    elif float((df['Результат_анализа'][i]))<500 and df['Показатель'][i]=='Сульфаты (SO4)':\n",
    "        df['Выводы'][i]='Норма'   \n",
    "        \n",
    "    elif float((df['Результат_анализа'][i]))<0.3 and df['Показатель'][i]=='Железо (включая хлорное железо) по Fe':\n",
    "        df['Выводы'][i]='Норма' \n",
    "                    \n",
    "    elif float((df['Результат_анализа'][i]))<0.3 and df['Показатель'][i]=='Нефть':\n",
    "        df['Выводы'][i]='Норма' \n",
    "        \n",
    "    elif float((df['Результат_анализа'][i]))<1000 and df['Показатель'][i]=='Общая минерализация (сухой остаток)':\n",
    "        df['Выводы'][i]='Норма' \n",
    "                   \n",
    "    elif float((df['Результат_анализа'][i]))<0.5 and df['Показатель'][i]=='Окесляемость перманганатная':\n",
    "        df['Выводы'][i]='Норма' \n",
    "                  \n",
    "    else:\n",
    "        df['Выводы'][i]='Не норма' "
   ]
  },
  {
   "cell_type": "code",
   "execution_count": 42,
   "id": "a834934f",
   "metadata": {},
   "outputs": [
    {
     "ename": "NameError",
     "evalue": "name 'df' is not defined",
     "output_type": "error",
     "traceback": [
      "\u001b[1;31m---------------------------------------------------------------------------\u001b[0m",
      "\u001b[1;31mNameError\u001b[0m                                 Traceback (most recent call last)",
      "Cell \u001b[1;32mIn[42], line 1\u001b[0m\n\u001b[1;32m----> 1\u001b[0m df\u001b[38;5;241m.\u001b[39mset_index(\u001b[38;5;124m'\u001b[39m\u001b[38;5;124mПоказатель\u001b[39m\u001b[38;5;124m'\u001b[39m, inplace\u001b[38;5;241m=\u001b[39m\u001b[38;5;28;01mTrue\u001b[39;00m)\n",
      "\u001b[1;31mNameError\u001b[0m: name 'df' is not defined"
     ]
    }
   ],
   "source": [
    "df.set_index('Показатель', inplace=True)"
   ]
  },
  {
   "cell_type": "code",
   "execution_count": 8,
   "id": "d3f61b34",
   "metadata": {},
   "outputs": [
    {
     "name": "stdout",
     "output_type": "stream",
     "text": [
      "Экспериментальная вероятность:  0.107\n"
     ]
    }
   ],
   "source": [
    "#Задача 2\n",
    "\n",
    "import pandas as pd\n",
    "import numpy as np\n",
    "import requests # for web-download\n",
    "import io # for web-download\n",
    "import re # for data processing\n",
    "import random\n",
    "\n",
    "\n",
    "def experiment(num_trials):\n",
    "    num_success = 0\n",
    "    for _ in range(num_trials):\n",
    "        fruits = ['orange', 'orange', 'orange', 'orange', 'orange', 'apple', 'apple', 'apple', 'apple']\n",
    "        chosen_fruits = random.sample(fruits, 3)\n",
    "        if all(fruit == 'orange' for fruit in chosen_fruits):\n",
    "            num_success += 1\n",
    "    return num_success / num_trials\n",
    "\n",
    "num_trials = 1000  # Количество повторений эксперимента\n",
    "experimental_probability = experiment(num_trials)\n",
    "print(\"Экспериментальная вероятность: \", experimental_probability)\n",
    "\n",
    "#полученный ответ не потвреждается и не равен 0.19"
   ]
  },
  {
   "cell_type": "code",
   "execution_count": 7,
   "id": "62e5150b",
   "metadata": {},
   "outputs": [
    {
     "name": "stdout",
     "output_type": "stream",
     "text": [
      "Приближенная вероятность: 1.0\n"
     ]
    }
   ],
   "source": [
    "#Задача 3\n",
    "import random\n",
    "\n",
    "def simulate(master_count, nonstandard_count):\n",
    "    checked_count = 0\n",
    "    two_checked_count = 0\n",
    "    \n",
    "    while True:\n",
    "        checked_count += 1\n",
    "        if random.randint(1, nonstandard_count + 1) == 1:\n",
    "            two_checked_count += 1\n",
    "            break\n",
    "    \n",
    "    return two_checked_count\n",
    "\n",
    "total_simulations = 1000\n",
    "master_count = 10\n",
    "nonstandard_count = 3\n",
    "two_checked_count = 0\n",
    "\n",
    "for _ in range(total_simulations):\n",
    "    two_checked_count += simulate(master_count, nonstandard_count)\n",
    "\n",
    "probability = two_checked_count / total_simulations\n",
    "\n",
    "print(\"Приближенная вероятность:\", probability)\n",
    "\n",
    "#полученный ответ не потвреждается и не равен 0.23"
   ]
  }
 ],
 "metadata": {
  "kernelspec": {
   "display_name": "Python 3 (ipykernel)",
   "language": "python",
   "name": "python3"
  },
  "language_info": {
   "codemirror_mode": {
    "name": "ipython",
    "version": 3
   },
   "file_extension": ".py",
   "mimetype": "text/x-python",
   "name": "python",
   "nbconvert_exporter": "python",
   "pygments_lexer": "ipython3",
   "version": "3.11.5"
  }
 },
 "nbformat": 4,
 "nbformat_minor": 5
}
